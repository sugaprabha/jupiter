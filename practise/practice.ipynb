{
 "cells": [
  {
   "cell_type": "code",
   "execution_count": null,
   "id": "aa88edc7-30d3-4e3e-86a7-674b55061ed0",
   "metadata": {},
   "outputs": [],
   "source": [
    "#User requirements-finding the BMI\n",
    "#inp requirements-weight and height\n",
    "#logic- 703*weight/height\n",
    "#testcase-weight 72; height 175; expected output- 289\n",
    "\n",
    "Name=input(\"Hey... May i know yourName\")\n",
    "Height=input(\"Enter Height\")\n",
    "weight=input(\"Enter weight\")\n",
    "\n",
    "Height=int(Height)\n",
    "weight=int(weight)\n",
    "constant=703\n",
    "BMI=constant*(weight/Height)\n",
    "print (f\" Hey {Name}/nYour height is {Height}\\n Your weight is {weight}\\n Your BMI is {BMI}\")\n"
   ]
  },
  {
   "cell_type": "code",
   "execution_count": null,
   "id": "785c2748-c818-4990-a7c6-de25ec834989",
   "metadata": {},
   "outputs": [],
   "source": []
  },
  {
   "cell_type": "code",
   "execution_count": null,
   "id": "267d537b-3979-44a9-aac7-6f16baf70ea2",
   "metadata": {},
   "outputs": [],
   "source": []
  }
 ],
 "metadata": {
  "kernelspec": {
   "display_name": "Python 3",
   "language": "python",
   "name": "python3"
  },
  "language_info": {
   "codemirror_mode": {
    "name": "ipython",
    "version": 3
   },
   "file_extension": ".py",
   "mimetype": "text/x-python",
   "name": "python",
   "nbconvert_exporter": "python",
   "pygments_lexer": "ipython3",
   "version": "3.7.8"
  }
 },
 "nbformat": 4,
 "nbformat_minor": 5
}
