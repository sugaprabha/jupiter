{
 "cells": [
  {
   "cell_type": "code",
   "execution_count": 3,
   "id": "e1cbe1bc-e01c-4c89-a734-1d556b91e4b1",
   "metadata": {
    "tags": []
   },
   "outputs": [
    {
     "name": "stdout",
     "output_type": "stream",
     "text": [
      "<class 'int'>\n",
      "<class 'str'>\n",
      "<class 'float'>\n",
      "<class 'bool'>\n",
      "<class 'complex'>\n"
     ]
    }
   ],
   "source": [
    "a=100\n",
    "print(type(a))\n",
    "a=\"sdfdsf1\"\n",
    "print(type(a))\n",
    "a=0.5\n",
    "print(type(a))\n",
    "a=True\n",
    "print(type(a))\n",
    "a=1j\n",
    "print(type(a))"
   ]
  },
  {
   "cell_type": "code",
   "execution_count": 7,
   "id": "39fb7835-8d66-4b89-96ec-7eaf9fad6619",
   "metadata": {
    "tags": []
   },
   "outputs": [
    {
     "name": "stdout",
     "output_type": "stream",
     "text": [
      "o\n",
      "8\n"
     ]
    }
   ],
   "source": [
    "name=\"Motheesh\"\n",
    "print(name[1])\n",
    "length_of_name=len(name)\n",
    "print(length_of_name)"
   ]
  },
  {
   "cell_type": "code",
   "execution_count": 13,
   "id": "ef5ef75e-21a8-4afb-bf9b-a4b8114e04a8",
   "metadata": {
    "tags": []
   },
   "outputs": [
    {
     "data": {
      "text/plain": [
       "'h'"
      ]
     },
     "execution_count": 13,
     "metadata": {},
     "output_type": "execute_result"
    }
   ],
   "source": [
    "#indexing\n",
    "name[-1]"
   ]
  },
  {
   "cell_type": "code",
   "execution_count": 20,
   "id": "de7396d0-d1d8-4adf-910e-d223df1b3483",
   "metadata": {
    "tags": []
   },
   "outputs": [
    {
     "data": {
      "text/plain": [
       "'te'"
      ]
     },
     "execution_count": 20,
     "metadata": {},
     "output_type": "execute_result"
    }
   ],
   "source": [
    "#slicing\n",
    "name[2:8:3]\n",
    "#[start:stop:step]"
   ]
  },
  {
   "cell_type": "code",
   "execution_count": 21,
   "id": "fd1d6979-1e41-4a36-bd5b-58a610965933",
   "metadata": {
    "tags": []
   },
   "outputs": [
    {
     "data": {
      "text/plain": [
       "8"
      ]
     },
     "execution_count": 21,
     "metadata": {},
     "output_type": "execute_result"
    }
   ],
   "source": [
    "#length\n",
    "len(name)"
   ]
  },
  {
   "cell_type": "code",
   "execution_count": 34,
   "id": "1a00a59b-cbce-46f3-9d1c-668610daf24f",
   "metadata": {
    "tags": []
   },
   "outputs": [
    {
     "name": "stdout",
     "output_type": "stream",
     "text": [
      "0 M\n",
      "iteration 0\n",
      "2 t\n",
      "iteration 2\n",
      "4 e\n",
      "iteration 4\n",
      "6 s\n",
      "iteration 6\n"
     ]
    }
   ],
   "source": [
    "# provides range of values\n",
    "for i in range(0,len(name),2):\n",
    "    print(i,name[i])\n",
    "    print(f\"iteration {i}\")"
   ]
  },
  {
   "cell_type": "code",
   "execution_count": 43,
   "id": "cde83b9d-6835-499a-936c-f1b8fd66a9dd",
   "metadata": {
    "tags": []
   },
   "outputs": [
    {
     "name": "stdout",
     "output_type": "stream",
     "text": [
      "0 H\n",
      "1 e\n",
      "2 y\n",
      "3 !\n",
      "4 !\n",
      "5  \n",
      "6 W\n",
      "7 e\n",
      "8 l\n",
      "9 c\n",
      "10 o\n",
      "11 m\n",
      "12 e\n",
      "13  \n",
      "14 h\n",
      "15 o\n",
      "16 m\n",
      "17 e\n",
      "18  \n",
      "19 m\n",
      "20 y\n",
      "21  \n",
      "22 d\n",
      "23 e\n",
      "24 a\n",
      "25 r\n"
     ]
    }
   ],
   "source": [
    "greetings=\"Hey!! Welcome home my dear\"\n",
    "\n",
    "for i in range(0,len (greetings)):\n",
    "    print (i, greetings[i])\n",
    "    "
   ]
  },
  {
   "cell_type": "code",
   "execution_count": 46,
   "id": "0f93390b-4d02-4e63-8969-bf406d2abba7",
   "metadata": {
    "tags": []
   },
   "outputs": [
    {
     "name": "stdout",
     "output_type": "stream",
     "text": [
      "Hey!! 5\n",
      "Welcome 7\n",
      "home 4\n",
      "my 2\n",
      "dear 4\n"
     ]
    }
   ],
   "source": [
    "greetings=\"Hey!! Welcome home my dear\"\n",
    "\n",
    "for i in greetings.split(\" \"):\n",
    "    print(i,len(i))"
   ]
  },
  {
   "cell_type": "code",
   "execution_count": 54,
   "id": "34c21cbc-1158-412a-b83c-ef90e350cb38",
   "metadata": {
    "tags": []
   },
   "outputs": [
    {
     "name": "stdout",
     "output_type": "stream",
     "text": [
      "<class 'list'>\n",
      "['Hey!!', 'Welcome', 'home', 'my', 'dear']\n"
     ]
    },
    {
     "data": {
      "text/plain": [
       "'Hey!!_Welcome_home_my_dear'"
      ]
     },
     "execution_count": 54,
     "metadata": {},
     "output_type": "execute_result"
    }
   ],
   "source": [
    "greetings=\"Hey!! Welcome home my dear\"\n",
    "words=greetings.split(\" \")\n",
    "print(type(words))\n",
    "print(words)\n",
    "\n",
    "\"_\".join(words)"
   ]
  },
  {
   "cell_type": "code",
   "execution_count": null,
   "id": "58bf3b23-bf40-4af8-9eea-41c9ddb26908",
   "metadata": {},
   "outputs": [],
   "source": [
    "#split,join,range,len,print,type"
   ]
  }
 ],
 "metadata": {
  "kernelspec": {
   "display_name": "Python 3 (ipykernel)",
   "language": "python",
   "name": "python3"
  },
  "language_info": {
   "codemirror_mode": {
    "name": "ipython",
    "version": 3
   },
   "file_extension": ".py",
   "mimetype": "text/x-python",
   "name": "python",
   "nbconvert_exporter": "python",
   "pygments_lexer": "ipython3",
   "version": "3.10.12"
  }
 },
 "nbformat": 4,
 "nbformat_minor": 5
}
